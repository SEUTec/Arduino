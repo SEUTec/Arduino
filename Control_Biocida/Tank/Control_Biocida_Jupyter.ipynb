{
 "cells": [
  {
   "cell_type": "markdown",
   "id": "d831267c-999b-418a-a23b-8b4e6a0d38b0",
   "metadata": {
    "editable": true,
    "slideshow": {
     "slide_type": ""
    },
    "tags": []
   },
   "source": [
    "# Control Biocida\n",
    "Memoria de càlcul."
   ]
  },
  {
   "cell_type": "code",
   "execution_count": 10,
   "id": "ba7ecd40-7759-4683-a43e-8de6bc785c39",
   "metadata": {},
   "outputs": [
    {
     "name": "stdout",
     "output_type": "stream",
     "text": [
      "Diam_Interior: 1064\n",
      "Altura_Interior: 1426\n",
      "Radi_Interior: 532.0\n"
     ]
    }
   ],
   "source": [
    "# Dimensions del Tank, obtingudes del planos del fabricant\n",
    "# en [mm]\n",
    "\n",
    "Diam_Interior = 1064\n",
    "Altura_Interior = 1426\n",
    "Radi_Interior = Diam_Interior /2\n",
    "\n",
    "print(\"Diam_Interior:\", Diam_Interior)\n",
    "print(\"Altura_Interior:\", Altura_Interior)\n",
    "print(\"Radi_Interior:\", Radi_Interior)"
   ]
  },
  {
   "cell_type": "code",
   "execution_count": 28,
   "id": "ac5a3653-0673-435e-b0d7-e93c5c857c43",
   "metadata": {},
   "outputs": [
    {
     "name": "stdout",
     "output_type": "stream",
     "text": [
      "Volum_Tank: 1.268 m3\n",
      "Volum_Tank: 1267.922 L\n"
     ]
    }
   ],
   "source": [
    "from numpy import pi\n",
    "\n",
    "Area_Tank = pi * Radi_Interior**2\n",
    "Volum_Tank = Area_Tank * Altura_Interior\n",
    "\n",
    "#print(\"Area_Tank:  %.3f mm2\" % (Area_Tank))\n",
    "#print(\"Area_Tank:  %.3f m2\" % (Area_Tank/1000/1000))\n",
    "#print(\"Volum_Tank: %.3f mm3\" % (Volum_Tank))\n",
    "print(\"Volum_Tank: %.3f m3\" % (Volum_Tank/1000/1000/1000))\n",
    "print(\"Volum_Tank: %.3f L\" % (Volum_Tank/100/100/100))"
   ]
  },
  {
   "cell_type": "code",
   "execution_count": 30,
   "id": "90aefe7d-d9c7-4afc-973e-e9326f066e2e",
   "metadata": {},
   "outputs": [
    {
     "name": "stdout",
     "output_type": "stream",
     "text": [
      "Altura_Mesura: 1310.000 mm\n",
      "Altura_Mesura: 1.310 m\n"
     ]
    }
   ],
   "source": [
    "# Configuració del SITRANS en [mm]\n",
    "Distancia_Fons = 1410\n",
    "Distancia_Top = 100\n",
    "\n",
    "Altura_Mesura = Distancia_Fons - Distancia_Top\n",
    "\n",
    "print(\"Altura_Mesura: %.3f mm\" % (Altura_Mesura))\n",
    "print(\"Altura_Mesura: %.3f m\" % (Altura_Mesura/1000))"
   ]
  },
  {
   "cell_type": "code",
   "execution_count": 43,
   "id": "2b033d03-d7f2-4043-ae94-62fed08f4086",
   "metadata": {},
   "outputs": [
    {
     "name": "stdout",
     "output_type": "stream",
     "text": [
      "Volum_Mesura: 1164781416.138 mm3\n",
      "Volum_Mesura: 1.165 m3\n",
      "Volum_Mesura: 1164.781 L\n",
      "L_p_mm 0.889 L/mm\n",
      "mm_p_L 1.125 mm/L\n"
     ]
    }
   ],
   "source": [
    "# Volum Mesura\n",
    "\n",
    "Volum_Mesura = Area_Tank * Altura_Mesura\n",
    "L_p_mm = Volum_Mesura/100/100/100 / Altura_Mesura\n",
    "#mm_p_L = Altura_Mesura / Volum_Mesura/100/100/100  # dona 0, per que ?\n",
    "mm_p_L = 1 / L_p_mm\n",
    "\n",
    "print(\"Volum_Mesura: %.3f mm3\" % (Volum_Mesura))\n",
    "print(\"Volum_Mesura: %.3f m3\" % (Volum_Mesura/1000/1000/1000))\n",
    "print(\"Volum_Mesura: %.3f L\" % (Volum_Mesura/100/100/100))\n",
    "\n",
    "print(\"L_p_mm %.3f L/mm\" % (L_p_mm))\n",
    "print(\"mm_p_L %.3f mm/L\" % (mm_p_L))"
   ]
  },
  {
   "cell_type": "code",
   "execution_count": 50,
   "id": "f63863a3-18e6-4d10-a101-9c458cb73b6d",
   "metadata": {},
   "outputs": [
    {
     "name": "stdout",
     "output_type": "stream",
     "text": [
      "Altura_mm 100.000\n",
      "Nivell_L 88.915\n"
     ]
    }
   ],
   "source": [
    "# Càlcul del Nivell amb la altura\n",
    "Altura_mm = 100   # Lectura del Nivell de Flotador\n",
    "Nivell_L = Altura_mm * L_p_mm\n",
    "\n",
    "print(\"Altura_mm %.3f\" % (Altura_mm))\n",
    "print(\"Nivell_L %.3f\" % (Nivell_L))"
   ]
  }
 ],
 "metadata": {
  "kernelspec": {
   "display_name": "Python 3 (ipykernel)",
   "language": "python",
   "name": "python3"
  },
  "language_info": {
   "codemirror_mode": {
    "name": "ipython",
    "version": 3
   },
   "file_extension": ".py",
   "mimetype": "text/x-python",
   "name": "python",
   "nbconvert_exporter": "python",
   "pygments_lexer": "ipython3",
   "version": "3.11.3"
  }
 },
 "nbformat": 4,
 "nbformat_minor": 5
}
